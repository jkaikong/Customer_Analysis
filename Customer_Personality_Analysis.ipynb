{
 "cells": [
  {
   "cell_type": "markdown",
   "metadata": {},
   "source": [
    "# Customer Analysis"
   ]
  },
  {
   "cell_type": "markdown",
   "metadata": {},
   "source": [
    "## Attributes\n",
    "\n",
    "**People**\n",
    "\n",
    "- ID: Customer's unique identifier\n",
    "- Year_Birth: Customer's birth year\n",
    "- Education: Customer's education level\n",
    "- Marital_Status: Customer's marital status\n",
    "- Income: Customer's yearly household income\n",
    "- Kidhome: Number of children in customer's household\n",
    "- Teenhome: Number of teenagers in customer's household\n",
    "- Dt_Customer: Date of customer's enrollment with the company\n",
    "- Recency: Number of days since customer's last purchase\n",
    "- Complain: 1 if customer complained in the last 2 years, 0 otherwise\n",
    "\n",
    "**Products**\n",
    "\n",
    "- MntWines: Amount spent on wine in last 2 years\n",
    "- MntFruits: Amount spent on fruits in last 2 years\n",
    "- MntMeatProducts: Amount spent on meat in last 2 years\n",
    "- MntFishProducts: Amount spent on fish in last 2 years\n",
    "- MntSweetProducts: Amount spent on sweets in last 2 years\n",
    "- MntGoldProds: Amount spent on gold in last 2 years\n",
    "\n",
    "**Promotion**\n",
    "\n",
    "- NumDealsPurchases: Number of purchases made with a discount\n",
    "- AcceptedCmp1: 1 if customer accepted the offer in the 1st campaign, 0 otherwise\n",
    "- AcceptedCmp2: 1 if customer accepted the offer in the 2nd campaign, 0 otherwise\n",
    "- AcceptedCmp3: 1 if customer accepted the offer in the 3rd campaign, 0 otherwise\n",
    "- AcceptedCmp4: 1 if customer accepted the offer in the 4th campaign, 0 otherwise\n",
    "- AcceptedCmp5: 1 if customer accepted the offer in the 5th campaign, 0 otherwise\n",
    "- Response: 1 if customer accepted the offer in the last campaign, 0 otherwise\n",
    "\n",
    "**Place**\n",
    "\n",
    "- NumWebPurchases: Number of purchases made through the company’s web site\n",
    "- NumCatalogPurchases: Number of purchases made using a catalogue\n",
    "- NumStorePurchases: Number of purchases made directly in stores\n",
    "- NumWebVisitsMonth: Number of visits to company’s web site in the last month\n"
   ]
  },
  {
   "cell_type": "markdown",
   "metadata": {},
   "source": [
    "## Initial Preview"
   ]
  },
  {
   "cell_type": "code",
   "execution_count": 1,
   "metadata": {},
   "outputs": [],
   "source": [
    "import pandas as pd\n",
    "import numpy as np\n",
    "import matplotlib.pyplot as plt\n",
    "%matplotlib inline\n",
    "import seaborn as sns\n",
    "from matplotlib import rcParams\n",
    "sns.set_style('darkgrid')\n",
    "from datetime import date"
   ]
  },
  {
   "cell_type": "code",
   "execution_count": 2,
   "metadata": {},
   "outputs": [],
   "source": [
    "df = pd.read_csv('marketing_campaign.csv', sep = '\\t')"
   ]
  },
  {
   "cell_type": "code",
   "execution_count": 3,
   "metadata": {},
   "outputs": [
    {
     "name": "stdout",
     "output_type": "stream",
     "text": [
      "The customer dataset contains 2240 rows, 29 columns.\n"
     ]
    }
   ],
   "source": [
    "print('The customer dataset contains ' + str(df.shape[0]) + ' rows, ' + str(df.shape[1]) + ' columns.')"
   ]
  },
  {
   "cell_type": "code",
   "execution_count": 4,
   "metadata": {},
   "outputs": [
    {
     "data": {
      "text/html": [
       "<div>\n",
       "<style scoped>\n",
       "    .dataframe tbody tr th:only-of-type {\n",
       "        vertical-align: middle;\n",
       "    }\n",
       "\n",
       "    .dataframe tbody tr th {\n",
       "        vertical-align: top;\n",
       "    }\n",
       "\n",
       "    .dataframe thead th {\n",
       "        text-align: right;\n",
       "    }\n",
       "</style>\n",
       "<table border=\"1\" class=\"dataframe\">\n",
       "  <thead>\n",
       "    <tr style=\"text-align: right;\">\n",
       "      <th></th>\n",
       "      <th>ID</th>\n",
       "      <th>Year_Birth</th>\n",
       "      <th>Education</th>\n",
       "      <th>Marital_Status</th>\n",
       "      <th>Income</th>\n",
       "      <th>Kidhome</th>\n",
       "      <th>Teenhome</th>\n",
       "      <th>Dt_Customer</th>\n",
       "      <th>Recency</th>\n",
       "      <th>MntWines</th>\n",
       "      <th>...</th>\n",
       "      <th>NumWebVisitsMonth</th>\n",
       "      <th>AcceptedCmp3</th>\n",
       "      <th>AcceptedCmp4</th>\n",
       "      <th>AcceptedCmp5</th>\n",
       "      <th>AcceptedCmp1</th>\n",
       "      <th>AcceptedCmp2</th>\n",
       "      <th>Complain</th>\n",
       "      <th>Z_CostContact</th>\n",
       "      <th>Z_Revenue</th>\n",
       "      <th>Response</th>\n",
       "    </tr>\n",
       "  </thead>\n",
       "  <tbody>\n",
       "    <tr>\n",
       "      <th>0</th>\n",
       "      <td>5524</td>\n",
       "      <td>1957</td>\n",
       "      <td>Graduation</td>\n",
       "      <td>Single</td>\n",
       "      <td>58138.0</td>\n",
       "      <td>0</td>\n",
       "      <td>0</td>\n",
       "      <td>04-09-2012</td>\n",
       "      <td>58</td>\n",
       "      <td>635</td>\n",
       "      <td>...</td>\n",
       "      <td>7</td>\n",
       "      <td>0</td>\n",
       "      <td>0</td>\n",
       "      <td>0</td>\n",
       "      <td>0</td>\n",
       "      <td>0</td>\n",
       "      <td>0</td>\n",
       "      <td>3</td>\n",
       "      <td>11</td>\n",
       "      <td>1</td>\n",
       "    </tr>\n",
       "    <tr>\n",
       "      <th>1</th>\n",
       "      <td>2174</td>\n",
       "      <td>1954</td>\n",
       "      <td>Graduation</td>\n",
       "      <td>Single</td>\n",
       "      <td>46344.0</td>\n",
       "      <td>1</td>\n",
       "      <td>1</td>\n",
       "      <td>08-03-2014</td>\n",
       "      <td>38</td>\n",
       "      <td>11</td>\n",
       "      <td>...</td>\n",
       "      <td>5</td>\n",
       "      <td>0</td>\n",
       "      <td>0</td>\n",
       "      <td>0</td>\n",
       "      <td>0</td>\n",
       "      <td>0</td>\n",
       "      <td>0</td>\n",
       "      <td>3</td>\n",
       "      <td>11</td>\n",
       "      <td>0</td>\n",
       "    </tr>\n",
       "    <tr>\n",
       "      <th>2</th>\n",
       "      <td>4141</td>\n",
       "      <td>1965</td>\n",
       "      <td>Graduation</td>\n",
       "      <td>Together</td>\n",
       "      <td>71613.0</td>\n",
       "      <td>0</td>\n",
       "      <td>0</td>\n",
       "      <td>21-08-2013</td>\n",
       "      <td>26</td>\n",
       "      <td>426</td>\n",
       "      <td>...</td>\n",
       "      <td>4</td>\n",
       "      <td>0</td>\n",
       "      <td>0</td>\n",
       "      <td>0</td>\n",
       "      <td>0</td>\n",
       "      <td>0</td>\n",
       "      <td>0</td>\n",
       "      <td>3</td>\n",
       "      <td>11</td>\n",
       "      <td>0</td>\n",
       "    </tr>\n",
       "    <tr>\n",
       "      <th>3</th>\n",
       "      <td>6182</td>\n",
       "      <td>1984</td>\n",
       "      <td>Graduation</td>\n",
       "      <td>Together</td>\n",
       "      <td>26646.0</td>\n",
       "      <td>1</td>\n",
       "      <td>0</td>\n",
       "      <td>10-02-2014</td>\n",
       "      <td>26</td>\n",
       "      <td>11</td>\n",
       "      <td>...</td>\n",
       "      <td>6</td>\n",
       "      <td>0</td>\n",
       "      <td>0</td>\n",
       "      <td>0</td>\n",
       "      <td>0</td>\n",
       "      <td>0</td>\n",
       "      <td>0</td>\n",
       "      <td>3</td>\n",
       "      <td>11</td>\n",
       "      <td>0</td>\n",
       "    </tr>\n",
       "    <tr>\n",
       "      <th>4</th>\n",
       "      <td>5324</td>\n",
       "      <td>1981</td>\n",
       "      <td>PhD</td>\n",
       "      <td>Married</td>\n",
       "      <td>58293.0</td>\n",
       "      <td>1</td>\n",
       "      <td>0</td>\n",
       "      <td>19-01-2014</td>\n",
       "      <td>94</td>\n",
       "      <td>173</td>\n",
       "      <td>...</td>\n",
       "      <td>5</td>\n",
       "      <td>0</td>\n",
       "      <td>0</td>\n",
       "      <td>0</td>\n",
       "      <td>0</td>\n",
       "      <td>0</td>\n",
       "      <td>0</td>\n",
       "      <td>3</td>\n",
       "      <td>11</td>\n",
       "      <td>0</td>\n",
       "    </tr>\n",
       "  </tbody>\n",
       "</table>\n",
       "<p>5 rows × 29 columns</p>\n",
       "</div>"
      ],
      "text/plain": [
       "     ID  Year_Birth   Education Marital_Status   Income  Kidhome  Teenhome  \\\n",
       "0  5524        1957  Graduation         Single  58138.0        0         0   \n",
       "1  2174        1954  Graduation         Single  46344.0        1         1   \n",
       "2  4141        1965  Graduation       Together  71613.0        0         0   \n",
       "3  6182        1984  Graduation       Together  26646.0        1         0   \n",
       "4  5324        1981         PhD        Married  58293.0        1         0   \n",
       "\n",
       "  Dt_Customer  Recency  MntWines  ...  NumWebVisitsMonth  AcceptedCmp3  \\\n",
       "0  04-09-2012       58       635  ...                  7             0   \n",
       "1  08-03-2014       38        11  ...                  5             0   \n",
       "2  21-08-2013       26       426  ...                  4             0   \n",
       "3  10-02-2014       26        11  ...                  6             0   \n",
       "4  19-01-2014       94       173  ...                  5             0   \n",
       "\n",
       "   AcceptedCmp4  AcceptedCmp5  AcceptedCmp1  AcceptedCmp2  Complain  \\\n",
       "0             0             0             0             0         0   \n",
       "1             0             0             0             0         0   \n",
       "2             0             0             0             0         0   \n",
       "3             0             0             0             0         0   \n",
       "4             0             0             0             0         0   \n",
       "\n",
       "   Z_CostContact  Z_Revenue  Response  \n",
       "0              3         11         1  \n",
       "1              3         11         0  \n",
       "2              3         11         0  \n",
       "3              3         11         0  \n",
       "4              3         11         0  \n",
       "\n",
       "[5 rows x 29 columns]"
      ]
     },
     "execution_count": 4,
     "metadata": {},
     "output_type": "execute_result"
    }
   ],
   "source": [
    "df.head()"
   ]
  },
  {
   "cell_type": "code",
   "execution_count": 5,
   "metadata": {},
   "outputs": [
    {
     "name": "stdout",
     "output_type": "stream",
     "text": [
      "<class 'pandas.core.frame.DataFrame'>\n",
      "RangeIndex: 2240 entries, 0 to 2239\n",
      "Data columns (total 29 columns):\n",
      "ID                     2240 non-null int64\n",
      "Year_Birth             2240 non-null int64\n",
      "Education              2240 non-null object\n",
      "Marital_Status         2240 non-null object\n",
      "Income                 2216 non-null float64\n",
      "Kidhome                2240 non-null int64\n",
      "Teenhome               2240 non-null int64\n",
      "Dt_Customer            2240 non-null object\n",
      "Recency                2240 non-null int64\n",
      "MntWines               2240 non-null int64\n",
      "MntFruits              2240 non-null int64\n",
      "MntMeatProducts        2240 non-null int64\n",
      "MntFishProducts        2240 non-null int64\n",
      "MntSweetProducts       2240 non-null int64\n",
      "MntGoldProds           2240 non-null int64\n",
      "NumDealsPurchases      2240 non-null int64\n",
      "NumWebPurchases        2240 non-null int64\n",
      "NumCatalogPurchases    2240 non-null int64\n",
      "NumStorePurchases      2240 non-null int64\n",
      "NumWebVisitsMonth      2240 non-null int64\n",
      "AcceptedCmp3           2240 non-null int64\n",
      "AcceptedCmp4           2240 non-null int64\n",
      "AcceptedCmp5           2240 non-null int64\n",
      "AcceptedCmp1           2240 non-null int64\n",
      "AcceptedCmp2           2240 non-null int64\n",
      "Complain               2240 non-null int64\n",
      "Z_CostContact          2240 non-null int64\n",
      "Z_Revenue              2240 non-null int64\n",
      "Response               2240 non-null int64\n",
      "dtypes: float64(1), int64(25), object(3)\n",
      "memory usage: 507.6+ KB\n"
     ]
    }
   ],
   "source": [
    "df.info()"
   ]
  },
  {
   "cell_type": "code",
   "execution_count": 6,
   "metadata": {
    "scrolled": false
   },
   "outputs": [
    {
     "data": {
      "text/html": [
       "<div>\n",
       "<style scoped>\n",
       "    .dataframe tbody tr th:only-of-type {\n",
       "        vertical-align: middle;\n",
       "    }\n",
       "\n",
       "    .dataframe tbody tr th {\n",
       "        vertical-align: top;\n",
       "    }\n",
       "\n",
       "    .dataframe thead th {\n",
       "        text-align: right;\n",
       "    }\n",
       "</style>\n",
       "<table border=\"1\" class=\"dataframe\">\n",
       "  <thead>\n",
       "    <tr style=\"text-align: right;\">\n",
       "      <th></th>\n",
       "      <th>count</th>\n",
       "      <th>mean</th>\n",
       "      <th>std</th>\n",
       "      <th>min</th>\n",
       "      <th>25%</th>\n",
       "      <th>50%</th>\n",
       "      <th>75%</th>\n",
       "      <th>max</th>\n",
       "    </tr>\n",
       "  </thead>\n",
       "  <tbody>\n",
       "    <tr>\n",
       "      <th>ID</th>\n",
       "      <td>2240.0</td>\n",
       "      <td>5592.159821</td>\n",
       "      <td>3246.662198</td>\n",
       "      <td>0.0</td>\n",
       "      <td>2828.25</td>\n",
       "      <td>5458.5</td>\n",
       "      <td>8427.75</td>\n",
       "      <td>11191.0</td>\n",
       "    </tr>\n",
       "    <tr>\n",
       "      <th>Year_Birth</th>\n",
       "      <td>2240.0</td>\n",
       "      <td>1968.805804</td>\n",
       "      <td>11.984069</td>\n",
       "      <td>1893.0</td>\n",
       "      <td>1959.00</td>\n",
       "      <td>1970.0</td>\n",
       "      <td>1977.00</td>\n",
       "      <td>1996.0</td>\n",
       "    </tr>\n",
       "    <tr>\n",
       "      <th>Income</th>\n",
       "      <td>2216.0</td>\n",
       "      <td>52247.251354</td>\n",
       "      <td>25173.076661</td>\n",
       "      <td>1730.0</td>\n",
       "      <td>35303.00</td>\n",
       "      <td>51381.5</td>\n",
       "      <td>68522.00</td>\n",
       "      <td>666666.0</td>\n",
       "    </tr>\n",
       "    <tr>\n",
       "      <th>Kidhome</th>\n",
       "      <td>2240.0</td>\n",
       "      <td>0.444196</td>\n",
       "      <td>0.538398</td>\n",
       "      <td>0.0</td>\n",
       "      <td>0.00</td>\n",
       "      <td>0.0</td>\n",
       "      <td>1.00</td>\n",
       "      <td>2.0</td>\n",
       "    </tr>\n",
       "    <tr>\n",
       "      <th>Teenhome</th>\n",
       "      <td>2240.0</td>\n",
       "      <td>0.506250</td>\n",
       "      <td>0.544538</td>\n",
       "      <td>0.0</td>\n",
       "      <td>0.00</td>\n",
       "      <td>0.0</td>\n",
       "      <td>1.00</td>\n",
       "      <td>2.0</td>\n",
       "    </tr>\n",
       "    <tr>\n",
       "      <th>Recency</th>\n",
       "      <td>2240.0</td>\n",
       "      <td>49.109375</td>\n",
       "      <td>28.962453</td>\n",
       "      <td>0.0</td>\n",
       "      <td>24.00</td>\n",
       "      <td>49.0</td>\n",
       "      <td>74.00</td>\n",
       "      <td>99.0</td>\n",
       "    </tr>\n",
       "    <tr>\n",
       "      <th>MntWines</th>\n",
       "      <td>2240.0</td>\n",
       "      <td>303.935714</td>\n",
       "      <td>336.597393</td>\n",
       "      <td>0.0</td>\n",
       "      <td>23.75</td>\n",
       "      <td>173.5</td>\n",
       "      <td>504.25</td>\n",
       "      <td>1493.0</td>\n",
       "    </tr>\n",
       "    <tr>\n",
       "      <th>MntFruits</th>\n",
       "      <td>2240.0</td>\n",
       "      <td>26.302232</td>\n",
       "      <td>39.773434</td>\n",
       "      <td>0.0</td>\n",
       "      <td>1.00</td>\n",
       "      <td>8.0</td>\n",
       "      <td>33.00</td>\n",
       "      <td>199.0</td>\n",
       "    </tr>\n",
       "    <tr>\n",
       "      <th>MntMeatProducts</th>\n",
       "      <td>2240.0</td>\n",
       "      <td>166.950000</td>\n",
       "      <td>225.715373</td>\n",
       "      <td>0.0</td>\n",
       "      <td>16.00</td>\n",
       "      <td>67.0</td>\n",
       "      <td>232.00</td>\n",
       "      <td>1725.0</td>\n",
       "    </tr>\n",
       "    <tr>\n",
       "      <th>MntFishProducts</th>\n",
       "      <td>2240.0</td>\n",
       "      <td>37.525446</td>\n",
       "      <td>54.628979</td>\n",
       "      <td>0.0</td>\n",
       "      <td>3.00</td>\n",
       "      <td>12.0</td>\n",
       "      <td>50.00</td>\n",
       "      <td>259.0</td>\n",
       "    </tr>\n",
       "    <tr>\n",
       "      <th>MntSweetProducts</th>\n",
       "      <td>2240.0</td>\n",
       "      <td>27.062946</td>\n",
       "      <td>41.280498</td>\n",
       "      <td>0.0</td>\n",
       "      <td>1.00</td>\n",
       "      <td>8.0</td>\n",
       "      <td>33.00</td>\n",
       "      <td>263.0</td>\n",
       "    </tr>\n",
       "    <tr>\n",
       "      <th>MntGoldProds</th>\n",
       "      <td>2240.0</td>\n",
       "      <td>44.021875</td>\n",
       "      <td>52.167439</td>\n",
       "      <td>0.0</td>\n",
       "      <td>9.00</td>\n",
       "      <td>24.0</td>\n",
       "      <td>56.00</td>\n",
       "      <td>362.0</td>\n",
       "    </tr>\n",
       "    <tr>\n",
       "      <th>NumDealsPurchases</th>\n",
       "      <td>2240.0</td>\n",
       "      <td>2.325000</td>\n",
       "      <td>1.932238</td>\n",
       "      <td>0.0</td>\n",
       "      <td>1.00</td>\n",
       "      <td>2.0</td>\n",
       "      <td>3.00</td>\n",
       "      <td>15.0</td>\n",
       "    </tr>\n",
       "    <tr>\n",
       "      <th>NumWebPurchases</th>\n",
       "      <td>2240.0</td>\n",
       "      <td>4.084821</td>\n",
       "      <td>2.778714</td>\n",
       "      <td>0.0</td>\n",
       "      <td>2.00</td>\n",
       "      <td>4.0</td>\n",
       "      <td>6.00</td>\n",
       "      <td>27.0</td>\n",
       "    </tr>\n",
       "    <tr>\n",
       "      <th>NumCatalogPurchases</th>\n",
       "      <td>2240.0</td>\n",
       "      <td>2.662054</td>\n",
       "      <td>2.923101</td>\n",
       "      <td>0.0</td>\n",
       "      <td>0.00</td>\n",
       "      <td>2.0</td>\n",
       "      <td>4.00</td>\n",
       "      <td>28.0</td>\n",
       "    </tr>\n",
       "    <tr>\n",
       "      <th>NumStorePurchases</th>\n",
       "      <td>2240.0</td>\n",
       "      <td>5.790179</td>\n",
       "      <td>3.250958</td>\n",
       "      <td>0.0</td>\n",
       "      <td>3.00</td>\n",
       "      <td>5.0</td>\n",
       "      <td>8.00</td>\n",
       "      <td>13.0</td>\n",
       "    </tr>\n",
       "    <tr>\n",
       "      <th>NumWebVisitsMonth</th>\n",
       "      <td>2240.0</td>\n",
       "      <td>5.316518</td>\n",
       "      <td>2.426645</td>\n",
       "      <td>0.0</td>\n",
       "      <td>3.00</td>\n",
       "      <td>6.0</td>\n",
       "      <td>7.00</td>\n",
       "      <td>20.0</td>\n",
       "    </tr>\n",
       "    <tr>\n",
       "      <th>AcceptedCmp3</th>\n",
       "      <td>2240.0</td>\n",
       "      <td>0.072768</td>\n",
       "      <td>0.259813</td>\n",
       "      <td>0.0</td>\n",
       "      <td>0.00</td>\n",
       "      <td>0.0</td>\n",
       "      <td>0.00</td>\n",
       "      <td>1.0</td>\n",
       "    </tr>\n",
       "    <tr>\n",
       "      <th>AcceptedCmp4</th>\n",
       "      <td>2240.0</td>\n",
       "      <td>0.074554</td>\n",
       "      <td>0.262728</td>\n",
       "      <td>0.0</td>\n",
       "      <td>0.00</td>\n",
       "      <td>0.0</td>\n",
       "      <td>0.00</td>\n",
       "      <td>1.0</td>\n",
       "    </tr>\n",
       "    <tr>\n",
       "      <th>AcceptedCmp5</th>\n",
       "      <td>2240.0</td>\n",
       "      <td>0.072768</td>\n",
       "      <td>0.259813</td>\n",
       "      <td>0.0</td>\n",
       "      <td>0.00</td>\n",
       "      <td>0.0</td>\n",
       "      <td>0.00</td>\n",
       "      <td>1.0</td>\n",
       "    </tr>\n",
       "    <tr>\n",
       "      <th>AcceptedCmp1</th>\n",
       "      <td>2240.0</td>\n",
       "      <td>0.064286</td>\n",
       "      <td>0.245316</td>\n",
       "      <td>0.0</td>\n",
       "      <td>0.00</td>\n",
       "      <td>0.0</td>\n",
       "      <td>0.00</td>\n",
       "      <td>1.0</td>\n",
       "    </tr>\n",
       "    <tr>\n",
       "      <th>AcceptedCmp2</th>\n",
       "      <td>2240.0</td>\n",
       "      <td>0.013393</td>\n",
       "      <td>0.114976</td>\n",
       "      <td>0.0</td>\n",
       "      <td>0.00</td>\n",
       "      <td>0.0</td>\n",
       "      <td>0.00</td>\n",
       "      <td>1.0</td>\n",
       "    </tr>\n",
       "    <tr>\n",
       "      <th>Complain</th>\n",
       "      <td>2240.0</td>\n",
       "      <td>0.009375</td>\n",
       "      <td>0.096391</td>\n",
       "      <td>0.0</td>\n",
       "      <td>0.00</td>\n",
       "      <td>0.0</td>\n",
       "      <td>0.00</td>\n",
       "      <td>1.0</td>\n",
       "    </tr>\n",
       "    <tr>\n",
       "      <th>Z_CostContact</th>\n",
       "      <td>2240.0</td>\n",
       "      <td>3.000000</td>\n",
       "      <td>0.000000</td>\n",
       "      <td>3.0</td>\n",
       "      <td>3.00</td>\n",
       "      <td>3.0</td>\n",
       "      <td>3.00</td>\n",
       "      <td>3.0</td>\n",
       "    </tr>\n",
       "    <tr>\n",
       "      <th>Z_Revenue</th>\n",
       "      <td>2240.0</td>\n",
       "      <td>11.000000</td>\n",
       "      <td>0.000000</td>\n",
       "      <td>11.0</td>\n",
       "      <td>11.00</td>\n",
       "      <td>11.0</td>\n",
       "      <td>11.00</td>\n",
       "      <td>11.0</td>\n",
       "    </tr>\n",
       "    <tr>\n",
       "      <th>Response</th>\n",
       "      <td>2240.0</td>\n",
       "      <td>0.149107</td>\n",
       "      <td>0.356274</td>\n",
       "      <td>0.0</td>\n",
       "      <td>0.00</td>\n",
       "      <td>0.0</td>\n",
       "      <td>0.00</td>\n",
       "      <td>1.0</td>\n",
       "    </tr>\n",
       "  </tbody>\n",
       "</table>\n",
       "</div>"
      ],
      "text/plain": [
       "                      count          mean           std     min       25%  \\\n",
       "ID                   2240.0   5592.159821   3246.662198     0.0   2828.25   \n",
       "Year_Birth           2240.0   1968.805804     11.984069  1893.0   1959.00   \n",
       "Income               2216.0  52247.251354  25173.076661  1730.0  35303.00   \n",
       "Kidhome              2240.0      0.444196      0.538398     0.0      0.00   \n",
       "Teenhome             2240.0      0.506250      0.544538     0.0      0.00   \n",
       "Recency              2240.0     49.109375     28.962453     0.0     24.00   \n",
       "MntWines             2240.0    303.935714    336.597393     0.0     23.75   \n",
       "MntFruits            2240.0     26.302232     39.773434     0.0      1.00   \n",
       "MntMeatProducts      2240.0    166.950000    225.715373     0.0     16.00   \n",
       "MntFishProducts      2240.0     37.525446     54.628979     0.0      3.00   \n",
       "MntSweetProducts     2240.0     27.062946     41.280498     0.0      1.00   \n",
       "MntGoldProds         2240.0     44.021875     52.167439     0.0      9.00   \n",
       "NumDealsPurchases    2240.0      2.325000      1.932238     0.0      1.00   \n",
       "NumWebPurchases      2240.0      4.084821      2.778714     0.0      2.00   \n",
       "NumCatalogPurchases  2240.0      2.662054      2.923101     0.0      0.00   \n",
       "NumStorePurchases    2240.0      5.790179      3.250958     0.0      3.00   \n",
       "NumWebVisitsMonth    2240.0      5.316518      2.426645     0.0      3.00   \n",
       "AcceptedCmp3         2240.0      0.072768      0.259813     0.0      0.00   \n",
       "AcceptedCmp4         2240.0      0.074554      0.262728     0.0      0.00   \n",
       "AcceptedCmp5         2240.0      0.072768      0.259813     0.0      0.00   \n",
       "AcceptedCmp1         2240.0      0.064286      0.245316     0.0      0.00   \n",
       "AcceptedCmp2         2240.0      0.013393      0.114976     0.0      0.00   \n",
       "Complain             2240.0      0.009375      0.096391     0.0      0.00   \n",
       "Z_CostContact        2240.0      3.000000      0.000000     3.0      3.00   \n",
       "Z_Revenue            2240.0     11.000000      0.000000    11.0     11.00   \n",
       "Response             2240.0      0.149107      0.356274     0.0      0.00   \n",
       "\n",
       "                         50%       75%       max  \n",
       "ID                    5458.5   8427.75   11191.0  \n",
       "Year_Birth            1970.0   1977.00    1996.0  \n",
       "Income               51381.5  68522.00  666666.0  \n",
       "Kidhome                  0.0      1.00       2.0  \n",
       "Teenhome                 0.0      1.00       2.0  \n",
       "Recency                 49.0     74.00      99.0  \n",
       "MntWines               173.5    504.25    1493.0  \n",
       "MntFruits                8.0     33.00     199.0  \n",
       "MntMeatProducts         67.0    232.00    1725.0  \n",
       "MntFishProducts         12.0     50.00     259.0  \n",
       "MntSweetProducts         8.0     33.00     263.0  \n",
       "MntGoldProds            24.0     56.00     362.0  \n",
       "NumDealsPurchases        2.0      3.00      15.0  \n",
       "NumWebPurchases          4.0      6.00      27.0  \n",
       "NumCatalogPurchases      2.0      4.00      28.0  \n",
       "NumStorePurchases        5.0      8.00      13.0  \n",
       "NumWebVisitsMonth        6.0      7.00      20.0  \n",
       "AcceptedCmp3             0.0      0.00       1.0  \n",
       "AcceptedCmp4             0.0      0.00       1.0  \n",
       "AcceptedCmp5             0.0      0.00       1.0  \n",
       "AcceptedCmp1             0.0      0.00       1.0  \n",
       "AcceptedCmp2             0.0      0.00       1.0  \n",
       "Complain                 0.0      0.00       1.0  \n",
       "Z_CostContact            3.0      3.00       3.0  \n",
       "Z_Revenue               11.0     11.00      11.0  \n",
       "Response                 0.0      0.00       1.0  "
      ]
     },
     "execution_count": 6,
     "metadata": {},
     "output_type": "execute_result"
    }
   ],
   "source": [
    "df.describe().T"
   ]
  },
  {
   "cell_type": "code",
   "execution_count": 7,
   "metadata": {},
   "outputs": [
    {
     "data": {
      "text/html": [
       "<div>\n",
       "<style scoped>\n",
       "    .dataframe tbody tr th:only-of-type {\n",
       "        vertical-align: middle;\n",
       "    }\n",
       "\n",
       "    .dataframe tbody tr th {\n",
       "        vertical-align: top;\n",
       "    }\n",
       "\n",
       "    .dataframe thead th {\n",
       "        text-align: right;\n",
       "    }\n",
       "</style>\n",
       "<table border=\"1\" class=\"dataframe\">\n",
       "  <thead>\n",
       "    <tr style=\"text-align: right;\">\n",
       "      <th></th>\n",
       "      <th>ID</th>\n",
       "      <th>Year_Birth</th>\n",
       "      <th>Education</th>\n",
       "      <th>Marital_Status</th>\n",
       "      <th>Income</th>\n",
       "      <th>Kidhome</th>\n",
       "      <th>Teenhome</th>\n",
       "      <th>Dt_Customer</th>\n",
       "      <th>Recency</th>\n",
       "      <th>MntWines</th>\n",
       "      <th>...</th>\n",
       "      <th>NumWebVisitsMonth</th>\n",
       "      <th>AcceptedCmp3</th>\n",
       "      <th>AcceptedCmp4</th>\n",
       "      <th>AcceptedCmp5</th>\n",
       "      <th>AcceptedCmp1</th>\n",
       "      <th>AcceptedCmp2</th>\n",
       "      <th>Complain</th>\n",
       "      <th>Z_CostContact</th>\n",
       "      <th>Z_Revenue</th>\n",
       "      <th>Response</th>\n",
       "    </tr>\n",
       "  </thead>\n",
       "  <tbody>\n",
       "  </tbody>\n",
       "</table>\n",
       "<p>0 rows × 29 columns</p>\n",
       "</div>"
      ],
      "text/plain": [
       "Empty DataFrame\n",
       "Columns: [ID, Year_Birth, Education, Marital_Status, Income, Kidhome, Teenhome, Dt_Customer, Recency, MntWines, MntFruits, MntMeatProducts, MntFishProducts, MntSweetProducts, MntGoldProds, NumDealsPurchases, NumWebPurchases, NumCatalogPurchases, NumStorePurchases, NumWebVisitsMonth, AcceptedCmp3, AcceptedCmp4, AcceptedCmp5, AcceptedCmp1, AcceptedCmp2, Complain, Z_CostContact, Z_Revenue, Response]\n",
       "Index: []\n",
       "\n",
       "[0 rows x 29 columns]"
      ]
     },
     "execution_count": 7,
     "metadata": {},
     "output_type": "execute_result"
    }
   ],
   "source": [
    "df[df.duplicated()]"
   ]
  },
  {
   "cell_type": "code",
   "execution_count": 8,
   "metadata": {},
   "outputs": [
    {
     "data": {
      "text/plain": [
       "ID                      0\n",
       "Year_Birth              0\n",
       "Education               0\n",
       "Marital_Status          0\n",
       "Income                 24\n",
       "Kidhome                 0\n",
       "Teenhome                0\n",
       "Dt_Customer             0\n",
       "Recency                 0\n",
       "MntWines                0\n",
       "MntFruits               0\n",
       "MntMeatProducts         0\n",
       "MntFishProducts         0\n",
       "MntSweetProducts        0\n",
       "MntGoldProds            0\n",
       "NumDealsPurchases       0\n",
       "NumWebPurchases         0\n",
       "NumCatalogPurchases     0\n",
       "NumStorePurchases       0\n",
       "NumWebVisitsMonth       0\n",
       "AcceptedCmp3            0\n",
       "AcceptedCmp4            0\n",
       "AcceptedCmp5            0\n",
       "AcceptedCmp1            0\n",
       "AcceptedCmp2            0\n",
       "Complain                0\n",
       "Z_CostContact           0\n",
       "Z_Revenue               0\n",
       "Response                0\n",
       "dtype: int64"
      ]
     },
     "execution_count": 8,
     "metadata": {},
     "output_type": "execute_result"
    }
   ],
   "source": [
    "df.isnull().sum()"
   ]
  },
  {
   "cell_type": "code",
   "execution_count": 9,
   "metadata": {
    "scrolled": false
   },
   "outputs": [
    {
     "data": {
      "text/plain": [
       "<matplotlib.axes._subplots.AxesSubplot at 0x7fc35a584650>"
      ]
     },
     "execution_count": 9,
     "metadata": {},
     "output_type": "execute_result"
    },
    {
     "data": {
      "image/png": "[encoded data removed]",
      "text/plain": [
       "<Figure size 720x432 with 1 Axes>"
      ]
     },
     "metadata": {
      "needs_background": "light"
     },
     "output_type": "display_data"
    }
   ],
   "source": [
    "rcParams['figure.figsize'] = 10, 6\n",
    "sns.set_palette('bright')\n",
    "sns.heatmap(data=df.isnull(), yticklabels=False, cbar=False)"
   ]
  },
  {
   "cell_type": "markdown",
   "metadata": {},
   "source": [
    "### Observations and Thoughts\n",
    "\n",
    "> 1. Base on the data descrition table, I found that 'Year_Birth' column contains anomalous data. The minimum birth year is 1893. I will do a further investigate on the column.\n",
    "\n",
    "> 2. Because 'Kidhome' and 'Teenhome' are both shows the number of dependent children in customer's household, I will combine them into 1 column.\n",
    "\n",
    "> 3. Because 'Dt_Customer' shows the date of customer's enrollment with the company, I will change its data type to Datetime.\n",
    "\n",
    "> 4. The 'Income' column has 24 missing value, I will use the median of all customer's income to fill in the missing value.\n",
    "\n",
    "> 5. 'Z_CostContact' and 'Z_Revenue' are not meaningful to the analysis, so I will remove this two columns.\n",
    "\n",
    "> 6. I will add a total number of purchase column, total number of accepted campaign column, total number of product amount.\n",
    "\n",
    "> 7. I will further investigate 'Education' and 'Marital_Status' and regularize two columns."
   ]
  },
  {
   "cell_type": "markdown",
   "metadata": {},
   "source": [
    "## EDA + Data Cleaning"
   ]
  },
  {
   "cell_type": "markdown",
   "metadata": {},
   "source": [
    "> **Remove 'Z_CostContact' and 'Z_Revenue'**"
   ]
  },
  {
   "cell_type": "code",
   "execution_count": 10,
   "metadata": {},
   "outputs": [],
   "source": [
    "df.drop(['Z_CostContact', 'Z_Revenue'], axis=1, inplace=True)"
   ]
  },
  {
   "cell_type": "code",
   "execution_count": 11,
   "metadata": {
    "scrolled": true
   },
   "outputs": [
    {
     "data": {
      "text/plain": [
       "Index(['ID', 'Year_Birth', 'Education', 'Marital_Status', 'Income', 'Kidhome',\n",
       "       'Teenhome', 'Dt_Customer', 'Recency', 'MntWines', 'MntFruits',\n",
       "       'MntMeatProducts', 'MntFishProducts', 'MntSweetProducts',\n",
       "       'MntGoldProds', 'NumDealsPurchases', 'NumWebPurchases',\n",
       "       'NumCatalogPurchases', 'NumStorePurchases', 'NumWebVisitsMonth',\n",
       "       'AcceptedCmp3', 'AcceptedCmp4', 'AcceptedCmp5', 'AcceptedCmp1',\n",
       "       'AcceptedCmp2', 'Complain', 'Response'],\n",
       "      dtype='object')"
      ]
     },
     "execution_count": 11,
     "metadata": {},
     "output_type": "execute_result"
    }
   ],
   "source": [
    "df.columns"
   ]
  },
  {
   "cell_type": "markdown",
   "metadata": {},
   "source": [
    "> **Combine 'Kidhome' and 'Teenhome' into 1 column**"
   ]
  },
  {
   "cell_type": "code",
   "execution_count": 12,
   "metadata": {},
   "outputs": [],
   "source": [
    "df['Numchildren'] = df.Kidhome + df.Teenhome"
   ]
  },
  {
   "cell_type": "markdown",
   "metadata": {},
   "source": [
    "> **Create Total Number of Purchases, Total Accepted Campaign, and Total Product Amount**"
   ]
  },
  {
   "cell_type": "code",
   "execution_count": 13,
   "metadata": {},
   "outputs": [],
   "source": [
    "df['TotalNumPurchases'] = df.NumDealsPurchases + df.NumWebPurchases + df.NumCatalogPurchases + df.NumStorePurchases"
   ]
  },
  {
   "cell_type": "code",
   "execution_count": 14,
   "metadata": {},
   "outputs": [],
   "source": [
    "df['TotalAcceptedCmp'] = df.Response + df.AcceptedCmp5 + df.AcceptedCmp4 + df.AcceptedCmp3 + df.AcceptedCmp2 + df.AcceptedCmp1"
   ]
  },
  {
   "cell_type": "code",
   "execution_count": 15,
   "metadata": {},
   "outputs": [],
   "source": [
    "df['TotalMnt'] = df.MntWines + df.MntFruits + df.MntMeatProducts + df.MntFishProducts + df.MntSweetProducts + df.MntGoldProds"
   ]
  },
  {
   "cell_type": "markdown",
   "metadata": {},
   "source": [
    "> **'Education' and 'Marital_Status' regularization**"
   ]
  },
  {
   "cell_type": "code",
   "execution_count": 16,
   "metadata": {
    "scrolled": true
   },
   "outputs": [
    {
     "data": {
      "text/plain": [
       "array(['Graduation', 'PhD', 'Master', 'Basic', '2n Cycle'], dtype=object)"
      ]
     },
     "execution_count": 16,
     "metadata": {},
     "output_type": "execute_result"
    }
   ],
   "source": [
    "df.Education.unique()"
   ]
  },
  {
   "cell_type": "markdown",
   "metadata": {},
   "source": [
    "- 1st Cycle corresponds to undergraduate level, or bachelor's level\n",
    "- 2nd Cycle corresponds to graduate level or master's level\n",
    "- 3rd Cycle corresponds to doctoral or PhD level"
   ]
  },
  {
   "cell_type": "code",
   "execution_count": 17,
   "metadata": {},
   "outputs": [],
   "source": [
    "df['Education'] = df.Education.replace(['Basic'], '1st_Cycle')\n",
    "df['Education'] = df.Education.replace(['Graduation', 'Master', '2n Cycle'], '2nd_Cycle')\n",
    "df['Education'] = df.Education.replace(['PhD'], '3rd_Cycle')"
   ]
  },
  {
   "cell_type": "code",
   "execution_count": 18,
   "metadata": {},
   "outputs": [
    {
     "data": {
      "text/plain": [
       "array(['Single', 'Together', 'Married', 'Divorced', 'Widow', 'Alone',\n",
       "       'Absurd', 'YOLO'], dtype=object)"
      ]
     },
     "execution_count": 18,
     "metadata": {},
     "output_type": "execute_result"
    }
   ],
   "source": [
    "df.Marital_Status.unique()"
   ]
  },
  {
   "cell_type": "code",
   "execution_count": 19,
   "metadata": {},
   "outputs": [],
   "source": [
    "df['Marital_Status'] = df.Marital_Status.replace(['Single', 'Divorced', 'Widow', 'Alone', 'Absurd', 'YOLO'], 'Single')\n",
    "df['Marital_Status'] = df.Marital_Status.replace(['Together', 'Married'], 'In_Relationships')"
   ]
  },
  {
   "cell_type": "markdown",
   "metadata": {},
   "source": [
    "> **Create Boxplot for 'Year_Birth' and other columns in order to see if there is any anomaly**"
   ]
  },
  {
   "cell_type": "code",
   "execution_count": 20,
   "metadata": {},
   "outputs": [
    {
     "data": {
      "text/plain": [
       "Index(['ID', 'Year_Birth', 'Education', 'Marital_Status', 'Income', 'Kidhome',\n",
       "       'Teenhome', 'Dt_Customer', 'Recency', 'MntWines', 'MntFruits',\n",
       "       'MntMeatProducts', 'MntFishProducts', 'MntSweetProducts',\n",
       "       'MntGoldProds', 'NumDealsPurchases', 'NumWebPurchases',\n",
       "       'NumCatalogPurchases', 'NumStorePurchases', 'NumWebVisitsMonth',\n",
       "       'AcceptedCmp3', 'AcceptedCmp4', 'AcceptedCmp5', 'AcceptedCmp1',\n",
       "       'AcceptedCmp2', 'Complain', 'Response', 'Numchildren',\n",
       "       'TotalNumPurchases', 'TotalAcceptedCmp', 'TotalMnt'],\n",
       "      dtype='object')"
      ]
     },
     "execution_count": 20,
     "metadata": {},
     "output_type": "execute_result"
    }
   ],
   "source": [
    "df.columns"
   ]
  },
  {
   "cell_type": "code",
   "execution_count": 21,
   "metadata": {},
   "outputs": [],
   "source": [
    "box_col = ['Year_Birth', 'Income', 'Recency', 'MntWines', 'MntFruits', 'MntMeatProducts', 'MntFishProducts', \n",
    "       'MntSweetProducts', 'MntGoldProds', 'NumDealsPurchases', 'NumWebPurchases', 'NumCatalogPurchases', \n",
    "       'NumStorePurchases', 'NumWebVisitsMonth', 'Numchildren', 'TotalNumPurchases', 'TotalAcceptedCmp', 'TotalMnt']\n",
    "df_boxplot = df[box_col]"
   ]
  },
  {
   "cell_type": "code",
   "execution_count": 22,
   "metadata": {},
   "outputs": [
    {
     "data": {
      "text/plain": [
       "Text(0.5, 0.9, 'Boxplots to Check Anomaly')"
      ]
     },
     "execution_count": 22,
     "metadata": {},
     "output_type": "execute_result"
    },
    {
     "data": {
      "image/png": "[encoded data removed]",
      "text/plain": [
       "<Figure size 1080x1008 with 20 Axes>"
      ]
     },
     "metadata": {
      "needs_background": "light"
     },
     "output_type": "display_data"
    }
   ],
   "source": [
    "df_boxplot.plot(subplots=True, kind='box', layout=(5, 4), figsize=(15,14))\n",
    "plt.suptitle('Boxplots to Check Anomaly', fontsize=18, y=0.9)"
   ]
  },
  {
   "cell_type": "code",
   "execution_count": 23,
   "metadata": {},
   "outputs": [
    {
     "data": {
      "text/plain": [
       "count    2240.000000\n",
       "mean     1968.805804\n",
       "std        11.984069\n",
       "min      1893.000000\n",
       "25%      1959.000000\n",
       "50%      1970.000000\n",
       "75%      1977.000000\n",
       "max      1996.000000\n",
       "Name: Year_Birth, dtype: float64"
      ]
     },
     "execution_count": 23,
     "metadata": {},
     "output_type": "execute_result"
    }
   ],
   "source": [
    "df.Year_Birth.describe()"
   ]
  },
  {
   "cell_type": "markdown",
   "metadata": {},
   "source": [
    "### Finding and Thought:\n",
    "> **Most of the columns contain outliers. Considering this is a sample data set comes from the population, most of the outliers are reasonable expect 'Year_Birth'. Customers who were born before 1900 have extremely small chance still being alive.**\n",
    "\n",
    "> **2 scenarios may cause the anomaly in 'Year_Bitrh' column: a. Data entry errors. b. The cutomer account can be inherited or the attorney of customer is operating the account.**\n",
    "\n",
    "> **I will choose to remove the outliers in 'Year_Birth'.**"
   ]
  },
  {
   "cell_type": "code",
   "execution_count": 24,
   "metadata": {},
   "outputs": [
    {
     "data": {
      "text/plain": [
       "Int64Index([192, 239, 339], dtype='int64')"
      ]
     },
     "execution_count": 24,
     "metadata": {},
     "output_type": "execute_result"
    }
   ],
   "source": [
    "df[df.Year_Birth < df.Year_Birth.mean() - 3*df.Year_Birth.std()].index"
   ]
  },
  {
   "cell_type": "code",
   "execution_count": 25,
   "metadata": {},
   "outputs": [],
   "source": [
    "df.drop(df.index[[192, 239, 339]], inplace=True)"
   ]
  },
  {
   "cell_type": "code",
   "execution_count": 26,
   "metadata": {},
   "outputs": [
    {
     "data": {
      "text/plain": [
       "count    2237.000000\n",
       "mean     1968.901654\n",
       "std        11.701917\n",
       "min      1940.000000\n",
       "25%      1959.000000\n",
       "50%      1970.000000\n",
       "75%      1977.000000\n",
       "max      1996.000000\n",
       "Name: Year_Birth, dtype: float64"
      ]
     },
     "execution_count": 26,
     "metadata": {},
     "output_type": "execute_result"
    }
   ],
   "source": [
    "df.Year_Birth.describe()"
   ]
  },
  {
   "cell_type": "markdown",
   "metadata": {},
   "source": [
    "> **Add the column of customers' age.**"
   ]
  },
  {
   "cell_type": "code",
   "execution_count": 27,
   "metadata": {},
   "outputs": [],
   "source": [
    "# Considering the creator of this data set didn't aware of when was the data collected. I use 2019 as current year.\n",
    "df['Age'] = 2018 - df.Year_Birth"
   ]
  },
  {
   "cell_type": "markdown",
   "metadata": {},
   "source": [
    "> **Replace missing value in 'Income' column with the median of each education level**"
   ]
  },
  {
   "cell_type": "code",
   "execution_count": 28,
   "metadata": {},
   "outputs": [
    {
     "data": {
      "text/plain": [
       "Education\n",
       "1st_Cycle    20744.0\n",
       "2nd_Cycle    51111.0\n",
       "3rd_Cycle    55185.0\n",
       "Name: Income, dtype: float64"
      ]
     },
     "execution_count": 28,
     "metadata": {},
     "output_type": "execute_result"
    }
   ],
   "source": [
    "df.groupby('Education')['Income'].median()"
   ]
  },
  {
   "cell_type": "code",
   "execution_count": 29,
   "metadata": {},
   "outputs": [],
   "source": [
    "def filling_miss_income(x):\n",
    "    Education = x[0]\n",
    "    Income = x[1]\n",
    "    \n",
    "    if pd.isnull(Income):\n",
    "        if Education == '1st_Cycle':\n",
    "            return 20744.0\n",
    "        elif Education == '2nd_Cycle':\n",
    "            return 51111.0\n",
    "        else:\n",
    "            return 55185.0\n",
    "    else:\n",
    "        return Income"
   ]
  },
  {
   "cell_type": "code",
   "execution_count": 30,
   "metadata": {},
   "outputs": [],
   "source": [
    "df['Income'] = df[['Education', 'Income']].apply(filling_miss_income, axis=1)"
   ]
  },
  {
   "cell_type": "markdown",
   "metadata": {},
   "source": [
    "> **Change the data type of 'Dt_Cutomer' to datetime**"
   ]
  },
  {
   "cell_type": "code",
   "execution_count": 31,
   "metadata": {
    "scrolled": false
   },
   "outputs": [
    {
     "data": {
      "text/plain": [
       "dtype('O')"
      ]
     },
     "execution_count": 31,
     "metadata": {},
     "output_type": "execute_result"
    }
   ],
   "source": [
    "df.Dt_Customer.dtype"
   ]
  },
  {
   "cell_type": "code",
   "execution_count": 32,
   "metadata": {},
   "outputs": [],
   "source": [
    "df.Dt_Customer = pd.to_datetime(df.Dt_Customer)"
   ]
  },
  {
   "cell_type": "code",
   "execution_count": 33,
   "metadata": {
    "scrolled": false
   },
   "outputs": [
    {
     "name": "stdout",
     "output_type": "stream",
     "text": [
      "<class 'pandas.core.frame.DataFrame'>\n",
      "Int64Index: 2237 entries, 0 to 2239\n",
      "Data columns (total 32 columns):\n",
      "ID                     2237 non-null int64\n",
      "Year_Birth             2237 non-null int64\n",
      "Education              2237 non-null object\n",
      "Marital_Status         2237 non-null object\n",
      "Income                 2237 non-null float64\n",
      "Kidhome                2237 non-null int64\n",
      "Teenhome               2237 non-null int64\n",
      "Dt_Customer            2237 non-null datetime64[ns]\n",
      "Recency                2237 non-null int64\n",
      "MntWines               2237 non-null int64\n",
      "MntFruits              2237 non-null int64\n",
      "MntMeatProducts        2237 non-null int64\n",
      "MntFishProducts        2237 non-null int64\n",
      "MntSweetProducts       2237 non-null int64\n",
      "MntGoldProds           2237 non-null int64\n",
      "NumDealsPurchases      2237 non-null int64\n",
      "NumWebPurchases        2237 non-null int64\n",
      "NumCatalogPurchases    2237 non-null int64\n",
      "NumStorePurchases      2237 non-null int64\n",
      "NumWebVisitsMonth      2237 non-null int64\n",
      "AcceptedCmp3           2237 non-null int64\n",
      "AcceptedCmp4           2237 non-null int64\n",
      "AcceptedCmp5           2237 non-null int64\n",
      "AcceptedCmp1           2237 non-null int64\n",
      "AcceptedCmp2           2237 non-null int64\n",
      "Complain               2237 non-null int64\n",
      "Response               2237 non-null int64\n",
      "Numchildren            2237 non-null int64\n",
      "TotalNumPurchases      2237 non-null int64\n",
      "TotalAcceptedCmp       2237 non-null int64\n",
      "TotalMnt               2237 non-null int64\n",
      "Age                    2237 non-null int64\n",
      "dtypes: datetime64[ns](1), float64(1), int64(28), object(2)\n",
      "memory usage: 576.7+ KB\n"
     ]
    }
   ],
   "source": [
    "df.info()"
   ]
  },
  {
   "cell_type": "code",
   "execution_count": 34,
   "metadata": {},
   "outputs": [],
   "source": [
    "df.rename(columns={'Response':'AcceptedCmp6'}, inplace=True)"
   ]
  },
  {
   "cell_type": "code",
   "execution_count": 35,
   "metadata": {},
   "outputs": [],
   "source": [
    "df.drop(['Kidhome', 'Teenhome'], axis=1, inplace=True)"
   ]
  },
  {
   "cell_type": "markdown",
   "metadata": {},
   "source": [
    "> **Store the cleaned data set**"
   ]
  },
  {
   "cell_type": "code",
   "execution_count": 36,
   "metadata": {},
   "outputs": [],
   "source": [
    "df.reset_index(drop=True)\n",
    "df.to_csv('Cleaned_Marketing_Campaign.csv', index=False)"
   ]
  },
  {
   "cell_type": "markdown",
   "metadata": {},
   "source": [
    "> **Visualization**"
   ]
  },
  {
   "cell_type": "code",
   "execution_count": 37,
   "metadata": {
    "scrolled": true
   },
   "outputs": [
    {
     "data": {
      "text/plain": [
       "Index(['ID', 'Year_Birth', 'Education', 'Marital_Status', 'Income',\n",
       "       'Dt_Customer', 'Recency', 'MntWines', 'MntFruits', 'MntMeatProducts',\n",
       "       'MntFishProducts', 'MntSweetProducts', 'MntGoldProds',\n",
       "       'NumDealsPurchases', 'NumWebPurchases', 'NumCatalogPurchases',\n",
       "       'NumStorePurchases', 'NumWebVisitsMonth', 'AcceptedCmp3',\n",
       "       'AcceptedCmp4', 'AcceptedCmp5', 'AcceptedCmp1', 'AcceptedCmp2',\n",
       "       'Complain', 'AcceptedCmp6', 'Numchildren', 'TotalNumPurchases',\n",
       "       'TotalAcceptedCmp', 'TotalMnt', 'Age'],\n",
       "      dtype='object')"
      ]
     },
     "execution_count": 37,
     "metadata": {},
     "output_type": "execute_result"
    }
   ],
   "source": [
    "df.columns"
   ]
  },
  {
   "cell_type": "code",
   "execution_count": 38,
   "metadata": {},
   "outputs": [
    {
     "data": {
      "text/plain": [
       "Text(0, 0.5, 'Count')"
      ]
     },
     "execution_count": 38,
     "metadata": {},
     "output_type": "execute_result"
    },
    {
     "data": {
      "image/png": "[encoded data removed]",
      "text/plain": [
       "<Figure size 936x576 with 1 Axes>"
      ]
     },
     "metadata": {
      "needs_background": "light"
     },
     "output_type": "display_data"
    }
   ],
   "source": [
    "rcParams['figure.figsize'] = 13, 8\n",
    "sns.histplot(data=df, x='Age', bins=10)\n",
    "\n",
    "plt.suptitle('Distribution Of Age', fontsize=18, x=0.5, y=0.92)\n",
    "plt.tick_params(axis='both', labelsize=13)\n",
    "plt.xlabel('Age', fontsize=13)\n",
    "plt.ylabel('Count', fontsize=13)"
   ]
  },
  {
   "cell_type": "code",
   "execution_count": 39,
   "metadata": {
    "scrolled": false
   },
   "outputs": [
    {
     "data": {
      "text/plain": [
       "Text(28.877441406250007, 0.5, 'Total')"
      ]
     },
     "execution_count": 39,
     "metadata": {},
     "output_type": "execute_result"
    },
    {
     "data": {
      "image/png": "[encoded data removed]",
      "text/plain": [
       "<Figure size 686.25x576 with 1 Axes>"
      ]
     },
     "metadata": {
      "needs_background": "light"
     },
     "output_type": "display_data"
    }
   ],
   "source": [
    "plot_order = ['1st_Cycle', '2nd_Cycle', '3rd_Cycle']\n",
    "plot_1 = sns.catplot(data=df, x='Education', y='TotalMnt', hue='Marital_Status', kind='bar', \n",
    "            order=plot_order, ci=None, alpha=0.9, height=8)\n",
    "\n",
    "ax = plot_1.facet_axis(0,0)\n",
    "for p in ax.patches:\n",
    "    ax.text(p.get_x() + 0.13, \n",
    "            p.get_height() * 1.015,\n",
    "            '{0:.0f}'.format(p.get_height()),\n",
    "            color='black', \n",
    "            rotation='horizontal', \n",
    "            size='large')\n",
    "    \n",
    "plt.suptitle('Total Amount Spent In Last 2 Years', fontsize=18, x=0.45, y=1.02)\n",
    "plt.tick_params(axis='both', labelsize=13)\n",
    "plt.xlabel('Education', fontsize=13)\n",
    "plt.ylabel('Total', fontsize=13)"
   ]
  },
  {
   "cell_type": "markdown",
   "metadata": {},
   "source": [
    "### Insights\n",
    "> **People who are 40s to 50s with postgraduate education background are the major customers**\n",
    "\n",
    "> **Our company can utilize the the advantage of major customers' age and education background to attract more potential customers. For example, we can build an activity/promotion with reward that encourage our existing active customers to refer their friends/colleagues to become our new customer.**\n",
    "\n",
    "> **Metrics that can be used to measure the referral activity: Number of new register customer,  Number of visits to company’s web site.**"
   ]
  },
  {
   "cell_type": "code",
   "execution_count": 40,
   "metadata": {},
   "outputs": [
    {
     "data": {
      "text/plain": [
       "count    2237.000000\n",
       "mean       49.104604\n",
       "std        28.956073\n",
       "min         0.000000\n",
       "25%        24.000000\n",
       "50%        49.000000\n",
       "75%        74.000000\n",
       "max        99.000000\n",
       "Name: Recency, dtype: float64"
      ]
     },
     "execution_count": 40,
     "metadata": {},
     "output_type": "execute_result"
    }
   ],
   "source": [
    "df.Recency.describe()  "
   ]
  },
  {
   "cell_type": "code",
   "execution_count": 41,
   "metadata": {
    "scrolled": false
   },
   "outputs": [],
   "source": [
    "r_labels = range(4, 0, -1)\n",
    "r_groups = pd.qcut(df['Recency'], q=4, labels=r_labels)"
   ]
  },
  {
   "cell_type": "code",
   "execution_count": 42,
   "metadata": {},
   "outputs": [],
   "source": [
    "df = df.assign(R = r_groups.values)"
   ]
  },
  {
   "cell_type": "code",
   "execution_count": 43,
   "metadata": {},
   "outputs": [
    {
     "data": {
      "text/html": [
       "<div>\n",
       "<style scoped>\n",
       "    .dataframe tbody tr th:only-of-type {\n",
       "        vertical-align: middle;\n",
       "    }\n",
       "\n",
       "    .dataframe tbody tr th {\n",
       "        vertical-align: top;\n",
       "    }\n",
       "\n",
       "    .dataframe thead th {\n",
       "        text-align: right;\n",
       "    }\n",
       "</style>\n",
       "<table border=\"1\" class=\"dataframe\">\n",
       "  <thead>\n",
       "    <tr style=\"text-align: right;\">\n",
       "      <th></th>\n",
       "      <th>ID</th>\n",
       "      <th>Recency</th>\n",
       "      <th>R</th>\n",
       "    </tr>\n",
       "  </thead>\n",
       "  <tbody>\n",
       "    <tr>\n",
       "      <th>0</th>\n",
       "      <td>5524</td>\n",
       "      <td>58</td>\n",
       "      <td>2</td>\n",
       "    </tr>\n",
       "    <tr>\n",
       "      <th>1</th>\n",
       "      <td>2174</td>\n",
       "      <td>38</td>\n",
       "      <td>3</td>\n",
       "    </tr>\n",
       "    <tr>\n",
       "      <th>2</th>\n",
       "      <td>4141</td>\n",
       "      <td>26</td>\n",
       "      <td>3</td>\n",
       "    </tr>\n",
       "    <tr>\n",
       "      <th>3</th>\n",
       "      <td>6182</td>\n",
       "      <td>26</td>\n",
       "      <td>3</td>\n",
       "    </tr>\n",
       "    <tr>\n",
       "      <th>4</th>\n",
       "      <td>5324</td>\n",
       "      <td>94</td>\n",
       "      <td>1</td>\n",
       "    </tr>\n",
       "    <tr>\n",
       "      <th>...</th>\n",
       "      <td>...</td>\n",
       "      <td>...</td>\n",
       "      <td>...</td>\n",
       "    </tr>\n",
       "    <tr>\n",
       "      <th>2235</th>\n",
       "      <td>10870</td>\n",
       "      <td>46</td>\n",
       "      <td>3</td>\n",
       "    </tr>\n",
       "    <tr>\n",
       "      <th>2236</th>\n",
       "      <td>4001</td>\n",
       "      <td>56</td>\n",
       "      <td>2</td>\n",
       "    </tr>\n",
       "    <tr>\n",
       "      <th>2237</th>\n",
       "      <td>7270</td>\n",
       "      <td>91</td>\n",
       "      <td>1</td>\n",
       "    </tr>\n",
       "    <tr>\n",
       "      <th>2238</th>\n",
       "      <td>8235</td>\n",
       "      <td>8</td>\n",
       "      <td>4</td>\n",
       "    </tr>\n",
       "    <tr>\n",
       "      <th>2239</th>\n",
       "      <td>9405</td>\n",
       "      <td>40</td>\n",
       "      <td>3</td>\n",
       "    </tr>\n",
       "  </tbody>\n",
       "</table>\n",
       "<p>2237 rows × 3 columns</p>\n",
       "</div>"
      ],
      "text/plain": [
       "         ID  Recency  R\n",
       "0      5524       58  2\n",
       "1      2174       38  3\n",
       "2      4141       26  3\n",
       "3      6182       26  3\n",
       "4      5324       94  1\n",
       "...     ...      ... ..\n",
       "2235  10870       46  3\n",
       "2236   4001       56  2\n",
       "2237   7270       91  1\n",
       "2238   8235        8  4\n",
       "2239   9405       40  3\n",
       "\n",
       "[2237 rows x 3 columns]"
      ]
     },
     "execution_count": 43,
     "metadata": {},
     "output_type": "execute_result"
    }
   ],
   "source": [
    "df[['ID','Recency', 'R']]"
   ]
  },
  {
   "cell_type": "code",
   "execution_count": null,
   "metadata": {},
   "outputs": [],
   "source": []
  },
  {
   "cell_type": "code",
   "execution_count": null,
   "metadata": {},
   "outputs": [],
   "source": []
  }
 ],
 "metadata": {
  "kernelspec": {
   "display_name": "Python 3",
   "language": "python",
   "name": "python3"
  },
  "language_info": {
   "codemirror_mode": {
    "name": "ipython",
    "version": 3
   },
   "file_extension": ".py",
   "mimetype": "text/x-python",
   "name": "python",
   "nbconvert_exporter": "python",
   "pygments_lexer": "ipython3",
   "version": "3.7.5"
  }
 },
 "nbformat": 4,
 "nbformat_minor": 2
}
